{
 "cells": [
  {
   "cell_type": "code",
   "execution_count": 111,
   "metadata": {},
   "outputs": [
    {
     "output_type": "stream",
     "name": "stdout",
     "text": [
      "    Mouse ID Drug Regimen     Sex  Age_months  Weight (g)\n0       k403     Ramicane    Male          21          16\n1       s185    Capomulin  Female           3          17\n2       x401    Capomulin  Female          16          15\n3       m601    Capomulin    Male          22          17\n4       g791     Ramicane    Male          11          16\n..       ...          ...     ...         ...         ...\n244     z314     Stelasyn  Female          21          28\n245     z435     Propriva  Female          12          26\n246     z581    Infubinol  Female          24          25\n247     z795     Naftisol  Female          13          29\n248     z969     Naftisol    Male           9          30\n\n[249 rows x 5 columns]\n     Mouse ID  Timepoint  Tumor Volume (mm3)  Metastatic Sites\n0        b128          0           45.000000                 0\n1        f932          0           45.000000                 0\n2        g107          0           45.000000                 0\n3        a457          0           45.000000                 0\n4        c819          0           45.000000                 0\n...       ...        ...                 ...               ...\n1888     r944         45           41.581521                 2\n1889     u364         45           31.023923                 3\n1890     p438         45           61.433892                 1\n1891     x773         45           58.634971                 4\n1892     b879         45           72.555239                 2\n\n[1893 rows x 4 columns]\n"
     ]
    }
   ],
   "source": [
    "#import dependencies\n",
    "import matplotlib.pyplot as plt\n",
    "import pandas as pd\n",
    "import scipy.stats as st\n",
    "import numpy as np\n",
    "#increase display width to view all columns at once\n",
    "pd.options.display.width = 1200\n",
    "\n",
    "#set paths for data\n",
    "mouse_metadata_path = \"/Users/bitty/matplotlib-challenge/matplotlib-challenge/Resources/Mouse_metadata.csv\"\n",
    "study_results_path = \"/Users/bitty/matplotlib-challenge/matplotlib-challenge/Resources/Study_results.csv\"\n",
    "\n",
    "# Read the mouse data and the study results\n",
    "mouse_metadata = pd.read_csv(mouse_metadata_path)\n",
    "study_results = pd.read_csv(study_results_path)\n",
    "\n",
    "#look at data\n",
    "print(mouse_metadata)\n",
    "print(study_results)\n",
    "\n"
   ]
  },
  {
   "cell_type": "code",
   "execution_count": 112,
   "metadata": {},
   "outputs": [
    {
     "output_type": "execute_result",
     "data": {
      "text/plain": [
       "  Mouse ID Drug Regimen   Sex  Age_months  Weight (g)  Timepoint  Tumor Volume (mm3)  Metastatic Sites\n",
       "0     k403     Ramicane  Male          21          16          0           45.000000                 0\n",
       "1     k403     Ramicane  Male          21          16          5           38.825898                 0\n",
       "2     k403     Ramicane  Male          21          16         10           35.014271                 1\n",
       "3     k403     Ramicane  Male          21          16         15           34.223992                 1\n",
       "4     k403     Ramicane  Male          21          16         20           32.997729                 1"
      ],
      "text/html": "<div>\n<style scoped>\n    .dataframe tbody tr th:only-of-type {\n        vertical-align: middle;\n    }\n\n    .dataframe tbody tr th {\n        vertical-align: top;\n    }\n\n    .dataframe thead th {\n        text-align: right;\n    }\n</style>\n<table border=\"1\" class=\"dataframe\">\n  <thead>\n    <tr style=\"text-align: right;\">\n      <th></th>\n      <th>Mouse ID</th>\n      <th>Drug Regimen</th>\n      <th>Sex</th>\n      <th>Age_months</th>\n      <th>Weight (g)</th>\n      <th>Timepoint</th>\n      <th>Tumor Volume (mm3)</th>\n      <th>Metastatic Sites</th>\n    </tr>\n  </thead>\n  <tbody>\n    <tr>\n      <th>0</th>\n      <td>k403</td>\n      <td>Ramicane</td>\n      <td>Male</td>\n      <td>21</td>\n      <td>16</td>\n      <td>0</td>\n      <td>45.000000</td>\n      <td>0</td>\n    </tr>\n    <tr>\n      <th>1</th>\n      <td>k403</td>\n      <td>Ramicane</td>\n      <td>Male</td>\n      <td>21</td>\n      <td>16</td>\n      <td>5</td>\n      <td>38.825898</td>\n      <td>0</td>\n    </tr>\n    <tr>\n      <th>2</th>\n      <td>k403</td>\n      <td>Ramicane</td>\n      <td>Male</td>\n      <td>21</td>\n      <td>16</td>\n      <td>10</td>\n      <td>35.014271</td>\n      <td>1</td>\n    </tr>\n    <tr>\n      <th>3</th>\n      <td>k403</td>\n      <td>Ramicane</td>\n      <td>Male</td>\n      <td>21</td>\n      <td>16</td>\n      <td>15</td>\n      <td>34.223992</td>\n      <td>1</td>\n    </tr>\n    <tr>\n      <th>4</th>\n      <td>k403</td>\n      <td>Ramicane</td>\n      <td>Male</td>\n      <td>21</td>\n      <td>16</td>\n      <td>20</td>\n      <td>32.997729</td>\n      <td>1</td>\n    </tr>\n  </tbody>\n</table>\n</div>"
     },
     "metadata": {},
     "execution_count": 112
    }
   ],
   "source": [
    "# Combine & Display the data table for preview\n",
    "full_data_set = pd.merge(mouse_metadata, study_results, on='Mouse ID', how='outer')\n",
    "full_data_set.head()"
   ]
  },
  {
   "cell_type": "code",
   "execution_count": 113,
   "metadata": {},
   "outputs": [
    {
     "output_type": "execute_result",
     "data": {
      "text/plain": [
       "Mouse ID              1893\n",
       "Drug Regimen          1893\n",
       "Sex                   1893\n",
       "Age_months            1893\n",
       "Weight (g)            1893\n",
       "Timepoint             1893\n",
       "Tumor Volume (mm3)    1893\n",
       "Metastatic Sites      1893\n",
       "dtype: int64"
      ]
     },
     "metadata": {},
     "execution_count": 113
    }
   ],
   "source": [
    "# Checking the number of mice.\n",
    "full_data_set.count()"
   ]
  },
  {
   "cell_type": "code",
   "execution_count": 114,
   "metadata": {},
   "outputs": [
    {
     "output_type": "execute_result",
     "data": {
      "text/plain": [
       "    Mouse ID Drug Regimen     Sex  Age_months  Weight (g)  Timepoint  Tumor Volume (mm3)  Metastatic Sites\n",
       "908     g989     Propriva  Female          21          26          0                45.0                 0\n",
       "909     g989     Propriva  Female          21          26          0                45.0                 0"
      ],
      "text/html": "<div>\n<style scoped>\n    .dataframe tbody tr th:only-of-type {\n        vertical-align: middle;\n    }\n\n    .dataframe tbody tr th {\n        vertical-align: top;\n    }\n\n    .dataframe thead th {\n        text-align: right;\n    }\n</style>\n<table border=\"1\" class=\"dataframe\">\n  <thead>\n    <tr style=\"text-align: right;\">\n      <th></th>\n      <th>Mouse ID</th>\n      <th>Drug Regimen</th>\n      <th>Sex</th>\n      <th>Age_months</th>\n      <th>Weight (g)</th>\n      <th>Timepoint</th>\n      <th>Tumor Volume (mm3)</th>\n      <th>Metastatic Sites</th>\n    </tr>\n  </thead>\n  <tbody>\n    <tr>\n      <th>908</th>\n      <td>g989</td>\n      <td>Propriva</td>\n      <td>Female</td>\n      <td>21</td>\n      <td>26</td>\n      <td>0</td>\n      <td>45.0</td>\n      <td>0</td>\n    </tr>\n    <tr>\n      <th>909</th>\n      <td>g989</td>\n      <td>Propriva</td>\n      <td>Female</td>\n      <td>21</td>\n      <td>26</td>\n      <td>0</td>\n      <td>45.0</td>\n      <td>0</td>\n    </tr>\n  </tbody>\n</table>\n</div>"
     },
     "metadata": {},
     "execution_count": 114
    }
   ],
   "source": [
    "# Getting the duplicate mice by ID number that shows up for Mouse ID and Timepoint. \n",
    "duplicates = full_data_set[full_data_set.duplicated(keep=False)]\n",
    "duplicates"
   ]
  },
  {
   "cell_type": "code",
   "execution_count": 115,
   "metadata": {},
   "outputs": [
    {
     "output_type": "execute_result",
     "data": {
      "text/plain": [
       "  Mouse ID Drug Regimen   Sex  Age_months  Weight (g)  Timepoint  Tumor Volume (mm3)  Metastatic Sites\n",
       "0     k403     Ramicane  Male          21          16          0           45.000000                 0\n",
       "1     k403     Ramicane  Male          21          16          5           38.825898                 0\n",
       "2     k403     Ramicane  Male          21          16         10           35.014271                 1\n",
       "3     k403     Ramicane  Male          21          16         15           34.223992                 1\n",
       "4     k403     Ramicane  Male          21          16         20           32.997729                 1\n",
       "5     k403     Ramicane  Male          21          16         25           33.464577                 1\n",
       "6     k403     Ramicane  Male          21          16         30           31.099498                 1\n",
       "7     k403     Ramicane  Male          21          16         35           26.546993                 1\n",
       "8     k403     Ramicane  Male          21          16         40           24.365505                 1\n",
       "9     k403     Ramicane  Male          21          16         45           22.050126                 1"
      ],
      "text/html": "<div>\n<style scoped>\n    .dataframe tbody tr th:only-of-type {\n        vertical-align: middle;\n    }\n\n    .dataframe tbody tr th {\n        vertical-align: top;\n    }\n\n    .dataframe thead th {\n        text-align: right;\n    }\n</style>\n<table border=\"1\" class=\"dataframe\">\n  <thead>\n    <tr style=\"text-align: right;\">\n      <th></th>\n      <th>Mouse ID</th>\n      <th>Drug Regimen</th>\n      <th>Sex</th>\n      <th>Age_months</th>\n      <th>Weight (g)</th>\n      <th>Timepoint</th>\n      <th>Tumor Volume (mm3)</th>\n      <th>Metastatic Sites</th>\n    </tr>\n  </thead>\n  <tbody>\n    <tr>\n      <th>0</th>\n      <td>k403</td>\n      <td>Ramicane</td>\n      <td>Male</td>\n      <td>21</td>\n      <td>16</td>\n      <td>0</td>\n      <td>45.000000</td>\n      <td>0</td>\n    </tr>\n    <tr>\n      <th>1</th>\n      <td>k403</td>\n      <td>Ramicane</td>\n      <td>Male</td>\n      <td>21</td>\n      <td>16</td>\n      <td>5</td>\n      <td>38.825898</td>\n      <td>0</td>\n    </tr>\n    <tr>\n      <th>2</th>\n      <td>k403</td>\n      <td>Ramicane</td>\n      <td>Male</td>\n      <td>21</td>\n      <td>16</td>\n      <td>10</td>\n      <td>35.014271</td>\n      <td>1</td>\n    </tr>\n    <tr>\n      <th>3</th>\n      <td>k403</td>\n      <td>Ramicane</td>\n      <td>Male</td>\n      <td>21</td>\n      <td>16</td>\n      <td>15</td>\n      <td>34.223992</td>\n      <td>1</td>\n    </tr>\n    <tr>\n      <th>4</th>\n      <td>k403</td>\n      <td>Ramicane</td>\n      <td>Male</td>\n      <td>21</td>\n      <td>16</td>\n      <td>20</td>\n      <td>32.997729</td>\n      <td>1</td>\n    </tr>\n    <tr>\n      <th>5</th>\n      <td>k403</td>\n      <td>Ramicane</td>\n      <td>Male</td>\n      <td>21</td>\n      <td>16</td>\n      <td>25</td>\n      <td>33.464577</td>\n      <td>1</td>\n    </tr>\n    <tr>\n      <th>6</th>\n      <td>k403</td>\n      <td>Ramicane</td>\n      <td>Male</td>\n      <td>21</td>\n      <td>16</td>\n      <td>30</td>\n      <td>31.099498</td>\n      <td>1</td>\n    </tr>\n    <tr>\n      <th>7</th>\n      <td>k403</td>\n      <td>Ramicane</td>\n      <td>Male</td>\n      <td>21</td>\n      <td>16</td>\n      <td>35</td>\n      <td>26.546993</td>\n      <td>1</td>\n    </tr>\n    <tr>\n      <th>8</th>\n      <td>k403</td>\n      <td>Ramicane</td>\n      <td>Male</td>\n      <td>21</td>\n      <td>16</td>\n      <td>40</td>\n      <td>24.365505</td>\n      <td>1</td>\n    </tr>\n    <tr>\n      <th>9</th>\n      <td>k403</td>\n      <td>Ramicane</td>\n      <td>Male</td>\n      <td>21</td>\n      <td>16</td>\n      <td>45</td>\n      <td>22.050126</td>\n      <td>1</td>\n    </tr>\n  </tbody>\n</table>\n</div>"
     },
     "metadata": {},
     "execution_count": 115
    }
   ],
   "source": [
    "cleaned_data_set = full_data_set.drop_duplicates(subset=['Mouse ID', 'Timepoint'])\n",
    "cleaned_data_set.head(10)"
   ]
  },
  {
   "cell_type": "code",
   "execution_count": 116,
   "metadata": {},
   "outputs": [
    {
     "output_type": "execute_result",
     "data": {
      "text/plain": [
       "Mouse ID              1888\n",
       "Drug Regimen          1888\n",
       "Sex                   1888\n",
       "Age_months            1888\n",
       "Weight (g)            1888\n",
       "Timepoint             1888\n",
       "Tumor Volume (mm3)    1888\n",
       "Metastatic Sites      1888\n",
       "dtype: int64"
      ]
     },
     "metadata": {},
     "execution_count": 116
    }
   ],
   "source": [
    "#get a clean duplicate count\n",
    "cleaned_data_set.count()"
   ]
  },
  {
   "cell_type": "code",
   "execution_count": 117,
   "metadata": {},
   "outputs": [],
   "source": [
    "#cleaned_data_set.value_counts(['Mouse ID'])"
   ]
  },
  {
   "cell_type": "markdown",
   "metadata": {},
   "source": [
    "## Summary Statistics"
   ]
  },
  {
   "cell_type": "code",
   "execution_count": 118,
   "metadata": {},
   "outputs": [
    {
     "output_type": "stream",
     "name": "stdout",
     "text": [
      "['Ramicane' 'Capomulin' 'Infubinol' 'Placebo' 'Ceftamin' 'Stelasyn'\n 'Zoniferol' 'Ketapril' 'Propriva' 'Naftisol']\n"
     ]
    }
   ],
   "source": [
    "print(cleaned_data_set[\"Drug Regimen\"].unique())"
   ]
  },
  {
   "cell_type": "code",
   "execution_count": 119,
   "metadata": {},
   "outputs": [
    {
     "output_type": "stream",
     "name": "stdout",
     "text": [
      "    Mouse ID Drug Regimen     Sex  Age_months  Weight (g)  Timepoint  Tumor Volume (mm3)  Metastatic Sites\n0       k403     Ramicane    Male          21          16          0           45.000000                 0\n1       k403     Ramicane    Male          21          16          5           38.825898                 0\n2       k403     Ramicane    Male          21          16         10           35.014271                 1\n3       k403     Ramicane    Male          21          16         15           34.223992                 1\n4       k403     Ramicane    Male          21          16         20           32.997729                 1\n10      s185    Capomulin  Female           3          17          0           45.000000                 0\n11      s185    Capomulin  Female           3          17          5           43.878496                 0\n12      s185    Capomulin  Female           3          17         10           37.614948                 0\n13      s185    Capomulin  Female           3          17         15           38.177232                 0\n14      s185    Capomulin  Female           3          17         20           36.866876                 0\n454     a203    Infubinol  Female          20          23          0           45.000000                 0\n455     a203    Infubinol  Female          20          23          5           48.508468                 0\n456     a203    Infubinol  Female          20          23         10           51.852437                 1\n457     a203    Infubinol  Female          20          23         15           52.777870                 1\n458     a203    Infubinol  Female          20          23         20           55.173336                 1\n474     a262      Placebo  Female          17          29          0           45.000000                 0\n475     a262      Placebo  Female          17          29          5           48.717568                 1\n476     a262      Placebo  Female          17          29         10           49.595181                 1\n477     a262      Placebo  Female          17          29         15           53.827974                 2\n478     a262      Placebo  Female          17          29         20           57.013313                 2\n484     a275     Ceftamin  Female          20          28          0           45.000000                 0\n485     a275     Ceftamin  Female          20          28          5           46.795257                 0\n486     a275     Ceftamin  Female          20          28         10           47.371343                 0\n487     a275     Ceftamin  Female          20          28         15           49.734404                 0\n488     a275     Ceftamin  Female          20          28         20           50.513437                 1\n494     a366     Stelasyn  Female          16          29          0           45.000000                 0\n495     a366     Stelasyn  Female          16          29          5           48.951368                 0\n496     a366     Stelasyn  Female          16          29         10           53.523990                 0\n497     a366     Stelasyn  Female          16          29         15           55.265582                 0\n498     a366     Stelasyn  Female          16          29         20           57.285987                 0\n501     a401    Zoniferol  Female           8          25          0           45.000000                 0\n502     a401    Zoniferol  Female           8          25          5           46.111986                 0\n503     a401    Zoniferol  Female           8          25         10           47.725937                 1\n504     a401    Zoniferol  Female           8          25         15           49.934725                 1\n505     a401    Zoniferol  Female           8          25         20           52.204511                 2\n511     a457     Ketapril  Female          11          30          0           45.000000                 0\n512     a457     Ketapril  Female          11          30          5           47.462891                 0\n513     a457     Ketapril  Female          11          30         10           49.783419                 0\n541     a699     Propriva  Female           5          28          0           45.000000                 0\n542     a699     Propriva  Female           5          28          5           46.553090                 0\n543     a699     Propriva  Female           5          28         10           47.867376                 0\n544     a699     Propriva  Female           5          28         15           49.530401                 0\n545     a699     Propriva  Female           5          28         20           50.712423                 0\n558     a818     Naftisol  Female          12          28          0           45.000000                 0\n559     a818     Naftisol  Female          12          28          5           45.696709                 0\n560     a818     Naftisol  Female          12          28         10           49.790919                 0\n561     a818     Naftisol  Female          12          28         15           51.227566                 0\n562     a818     Naftisol  Female          12          28         20           54.834624                 0\n690     c580     Ketapril    Male          22          25          0           45.000000                 0\n691     c580     Ketapril    Male          22          25          5           46.628455                 0\n"
     ]
    }
   ],
   "source": [
    "# Generate a summary statistics table of mean, median, variance, standard deviation, and SEM of the tumor volume for each regimen\n",
    "\n",
    "# Use groupby and summary statistical methods to calculate the following properties of each drug regimen: \n",
    "grouped_by_drug_regimen = cleaned_data_set.groupby(\"Drug Regimen\")\n",
    "print(grouped_by_drug_regimen.head())\n"
   ]
  },
  {
   "cell_type": "code",
   "execution_count": 120,
   "metadata": {},
   "outputs": [
    {
     "output_type": "stream",
     "name": "stdout",
     "text": [
      "              Tumor Volume (mm3)\nDrug Regimen                    \nCapomulin                  40.68\nCeftamin                   52.59\nInfubinol                  52.88\nKetapril                   55.24\nNaftisol                   54.33\nPlacebo                    54.03\nPropriva                   52.39\nRamicane                   40.22\nStelasyn                   54.23\nZoniferol                  53.24\n"
     ]
    }
   ],
   "source": [
    "# mean, median, variance, standard deviation, and SEM of the tumor volume. \n",
    "av_tumor_size_by_reg = pd.DataFrame(cleaned_data_set.groupby([\"Drug Regimen\"]).mean().round(2))\n",
    "av_tumor_size_by_reg = av_tumor_size_by_reg.drop(columns=[\"Age_months\", \"Weight (g)\", \"Timepoint\", \"Metastatic Sites\"])\n",
    "print(av_tumor_size_by_reg)\n"
   ]
  },
  {
   "cell_type": "code",
   "execution_count": 155,
   "metadata": {},
   "outputs": [
    {
     "output_type": "stream",
     "name": "stdout",
     "text": [
      "              Tumor Volume (mm3)\nDrug Regimen                    \nCapomulin                  41.56\nCeftamin                   51.78\nInfubinol                  51.82\nKetapril                   53.70\nNaftisol                   52.51\nPlacebo                    52.29\nPropriva                   50.91\nRamicane                   40.67\nStelasyn                   52.43\nZoniferol                  51.82\n"
     ]
    }
   ],
   "source": [
    "#median\n",
    "median_tumor_vol = pd.DataFrame(cleaned_data_set.groupby([\"Drug Regimen\"]).median().round(2))\n",
    "median_tumor_vol = median_tumor_vol.drop(columns=[\"Age_months\", \"Weight (g)\", \"Timepoint\", \"Metastatic Sites\"])\n",
    "print(median_tumor_vol)\n"
   ]
  },
  {
   "cell_type": "code",
   "execution_count": 145,
   "metadata": {},
   "outputs": [],
   "source": [
    "#standard dev\n",
    "#std_tumor_vol = np.std(cleaned_data_set.groupby([\"Drug Regimen\"]))\n",
    "#std_tumor_vol = np.std(std_tumor_vol, ddof=0)\n",
    "#std_tumor_vol"
   ]
  },
  {
   "cell_type": "code",
   "execution_count": 123,
   "metadata": {},
   "outputs": [],
   "source": [
    "# Generate a summary statistics table of mean, median, variance, standard deviation, and SEM of the tumor volume for each regimen\n",
    "\n",
    "# Using the aggregation method, produce the same summary statistics in a single line\n"
   ]
  },
  {
   "cell_type": "markdown",
   "metadata": {},
   "source": [
    "## Bar and Pie Charts"
   ]
  },
  {
   "cell_type": "code",
   "execution_count": 124,
   "metadata": {},
   "outputs": [],
   "source": [
    "# Generate a bar plot showing the total number of measurements taken on each drug regimen using pandas.\n",
    "\n"
   ]
  },
  {
   "cell_type": "code",
   "execution_count": 125,
   "metadata": {},
   "outputs": [],
   "source": [
    "# Generate a bar plot showing the total number of measurements taken on each drug regimen using pyplot.\n",
    "\n"
   ]
  },
  {
   "cell_type": "code",
   "execution_count": 126,
   "metadata": {},
   "outputs": [],
   "source": [
    "# Generate a pie plot showing the distribution of female versus male mice using pandas\n",
    "\n"
   ]
  },
  {
   "cell_type": "code",
   "execution_count": 127,
   "metadata": {},
   "outputs": [],
   "source": [
    "# Generate a pie plot showing the distribution of female versus male mice using pyplot\n",
    "\n"
   ]
  },
  {
   "cell_type": "markdown",
   "metadata": {},
   "source": [
    "## Quartiles, Outliers and Boxplots"
   ]
  },
  {
   "cell_type": "code",
   "execution_count": 128,
   "metadata": {},
   "outputs": [],
   "source": [
    "# Calculate the final tumor volume of each mouse across four of the treatment regimens:  \n",
    "# Capomulin, Ramicane, Infubinol, and Ceftamin\n",
    "\n",
    "# Start by getting the last (greatest) timepoint for each mouse\n",
    "\n",
    "\n",
    "# Merge this group df with the original dataframe to get the tumor volume at the last timepoint\n"
   ]
  },
  {
   "cell_type": "code",
   "execution_count": 129,
   "metadata": {},
   "outputs": [],
   "source": [
    "# Put treatments into a list for for loop (and later for plot labels)\n",
    "\n",
    "\n",
    "# Create empty list to fill with tumor vol data (for plotting)\n",
    "\n",
    "\n",
    "# Calculate the IQR and quantitatively determine if there are any potential outliers. \n",
    "\n",
    "    \n",
    "    # Locate the rows which contain mice on each drug and get the tumor volumes\n",
    "    \n",
    "    \n",
    "    # add subset \n",
    "    \n",
    "    \n",
    "    # Determine outliers using upper and lower bounds\n",
    "    "
   ]
  },
  {
   "cell_type": "code",
   "execution_count": 130,
   "metadata": {},
   "outputs": [],
   "source": [
    "# Generate a box plot of the final tumor volume of each mouse across four regimens of interest\n"
   ]
  },
  {
   "cell_type": "markdown",
   "metadata": {},
   "source": [
    "## Line and Scatter Plots"
   ]
  },
  {
   "cell_type": "code",
   "execution_count": 131,
   "metadata": {},
   "outputs": [],
   "source": [
    "# Generate a line plot of tumor volume vs. time point for a mouse treated with Capomulin\n"
   ]
  },
  {
   "cell_type": "code",
   "execution_count": 132,
   "metadata": {},
   "outputs": [],
   "source": [
    "# Generate a scatter plot of average tumor volume vs. mouse weight for the Capomulin regimen\n"
   ]
  },
  {
   "cell_type": "markdown",
   "metadata": {},
   "source": [
    "## Correlation and Regression"
   ]
  },
  {
   "cell_type": "code",
   "execution_count": 133,
   "metadata": {},
   "outputs": [],
   "source": [
    "# Calculate the correlation coefficient and linear regression model \n",
    "# for mouse weight and average tumor volume for the Capomulin regimen\n"
   ]
  },
  {
   "cell_type": "code",
   "execution_count": null,
   "metadata": {},
   "outputs": [],
   "source": []
  }
 ],
 "metadata": {
  "anaconda-cloud": {},
  "kernelspec": {
   "name": "python385jvsc74a57bd0b75be9ad71603c40476c6c8216298ace4da278de65ecdbf5da31753ceef4d599",
   "display_name": "Python 3.8.5 64-bit ('base': conda)"
  },
  "language_info": {
   "codemirror_mode": {
    "name": "ipython",
    "version": 3
   },
   "file_extension": ".py",
   "mimetype": "text/x-python",
   "name": "python",
   "nbconvert_exporter": "python",
   "pygments_lexer": "ipython3",
   "version": "3.8.5"
  }
 },
 "nbformat": 4,
 "nbformat_minor": 4
}